{
 "cells": [
  {
   "cell_type": "code",
   "execution_count": null,
   "id": "2c6b2cd2",
   "metadata": {},
   "outputs": [],
   "source": [
    "import numpy as np\n",
    "import cv2\n",
    "from matplotlib import pyplot as plt"
   ]
  },
  {
   "cell_type": "code",
   "execution_count": null,
   "id": "8bc83b95",
   "metadata": {},
   "outputs": [],
   "source": [
    "raw_img = cv2.imread('Lecun.png')\n",
    "img = raw_img.copy()\n",
    "img[:, :, 0] = raw_img[:, :, 2]\n",
    "img[:, :, 2] = raw_img[:, :, 0]\n",
    "img = img / 256"
   ]
  },
  {
   "cell_type": "code",
   "execution_count": null,
   "id": "bf53b696",
   "metadata": {},
   "outputs": [],
   "source": [
    "plt.imshow(img)"
   ]
  },
  {
   "cell_type": "code",
   "execution_count": null,
   "id": "19e96a4d",
   "metadata": {},
   "outputs": [],
   "source": [
    "def avg(img, stride = 3):\n",
    "    raw_w, raw_h, _ = img.shape\n",
    "    w = raw_w // stride\n",
    "    h = raw_h // stride\n",
    "    new = np.zeros((w, h, 3))\n",
    "    for x in range(w):\n",
    "        for y in range(h):\n",
    "            x_offset = x * stride\n",
    "            y_offset = y * stride\n",
    "            new[x, y, :] = np.mean(img[\n",
    "                x_offset : x_offset + stride, \n",
    "                y_offset : y_offset + stride, \n",
    "                :, \n",
    "            ], axis=(0, 1))\n",
    "    return new"
   ]
  },
  {
   "cell_type": "code",
   "execution_count": null,
   "id": "f2db69a5",
   "metadata": {},
   "outputs": [],
   "source": [
    "def maxpool(img, stride = 3, func = np.max):\n",
    "    raw_w, raw_h, _ = img.shape\n",
    "    w = raw_w // stride\n",
    "    h = raw_h // stride\n",
    "    new = np.zeros((w, h, 3))\n",
    "    for x in range(w):\n",
    "        for y in range(h):\n",
    "            x_offset = x * stride\n",
    "            y_offset = y * stride\n",
    "            new[x, y, :] = func(img[\n",
    "                x_offset : x_offset + stride, \n",
    "                y_offset : y_offset + stride, \n",
    "                :, \n",
    "            ], axis=(0, 1))\n",
    "    return new"
   ]
  },
  {
   "cell_type": "code",
   "execution_count": null,
   "id": "8585d3e0",
   "metadata": {},
   "outputs": [],
   "source": [
    "stride = 8\n",
    "\n",
    "avg_img = avg(img, stride)\n",
    "maxpool_img = maxpool(img, stride)\n",
    "minpool_img = maxpool(img, stride, np.min)\n",
    "\n",
    "fig, (ax0, ax1, ax2) = plt.subplots(3, 1)\n",
    "ax0.imshow(avg_img)\n",
    "ax1.imshow(maxpool_img)\n",
    "ax2.imshow(minpool_img)\n",
    "fig.set_size_inches(99, 20)"
   ]
  },
  {
   "cell_type": "code",
   "execution_count": null,
   "id": "443a265b",
   "metadata": {},
   "outputs": [],
   "source": []
  }
 ],
 "metadata": {
  "kernelspec": {
   "display_name": "Python 3",
   "language": "python",
   "name": "python3"
  },
  "language_info": {
   "codemirror_mode": {
    "name": "ipython",
    "version": 3
   },
   "file_extension": ".py",
   "mimetype": "text/x-python",
   "name": "python",
   "nbconvert_exporter": "python",
   "pygments_lexer": "ipython3",
   "version": "3.8.8"
  }
 },
 "nbformat": 4,
 "nbformat_minor": 5
}
